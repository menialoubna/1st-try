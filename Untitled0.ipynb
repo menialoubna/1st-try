{
  "nbformat": 4,
  "nbformat_minor": 0,
  "metadata": {
    "colab": {
      "name": "Untitled0.ipynb",
      "provenance": [],
      "toc_visible": true,
      "authorship_tag": "ABX9TyPZXJPfK4Cq15EYHl5QdqRP",
      "include_colab_link": true
    },
    "kernelspec": {
      "name": "python3",
      "display_name": "Python 3"
    }
  },
  "cells": [
    {
      "cell_type": "markdown",
      "metadata": {
        "id": "view-in-github",
        "colab_type": "text"
      },
      "source": [
        "<a href=\"https://colab.research.google.com/github/menialoubna/1st-try/blob/main/Untitled0.ipynb\" target=\"_parent\"><img src=\"https://colab.research.google.com/assets/colab-badge.svg\" alt=\"Open In Colab\"/></a>"
      ]
    },
    {
      "cell_type": "code",
      "metadata": {
        "colab": {
          "base_uri": "https://localhost:8080/"
        },
        "id": "S19_PMbdwfQy",
        "outputId": "0b433d0f-3262-47dc-f3f6-e01780f8a7dd"
      },
      "source": [
        "print(\"hello\")"
      ],
      "execution_count": null,
      "outputs": [
        {
          "output_type": "stream",
          "text": [
            "hello\n"
          ],
          "name": "stdout"
        }
      ]
    },
    {
      "cell_type": "markdown",
      "metadata": {
        "id": "jPEghUt10QYp"
      },
      "source": [
        "just trying wut colab id about\r\n"
      ]
    },
    {
      "cell_type": "code",
      "metadata": {
        "colab": {
          "base_uri": "https://localhost:8080/"
        },
        "id": "NayRSHsQ0W2U",
        "outputId": "52a723a0-d61c-4385-a4cf-b2381312b3bf"
      },
      "source": [
        "1+1\r\n"
      ],
      "execution_count": null,
      "outputs": [
        {
          "output_type": "execute_result",
          "data": {
            "text/plain": [
              "2"
            ]
          },
          "metadata": {
            "tags": []
          },
          "execution_count": 4
        }
      ]
    },
    {
      "cell_type": "code",
      "metadata": {
        "id": "fmGRgeY10Yur"
      },
      "source": [
        "#first row"
      ],
      "execution_count": null,
      "outputs": []
    },
    {
      "cell_type": "code",
      "metadata": {
        "colab": {
          "base_uri": "https://localhost:8080/"
        },
        "id": "1sJPHFIMyOUD",
        "outputId": "c15f9eac-7765-46bd-b620-ea5e7e17a6b6"
      },
      "source": [
        "a=input(\"enter 1st num\")\r\n",
        "b=input(\"enter 2nd num\")\r\n",
        "print(int(a)+int(b))\r\n"
      ],
      "execution_count": 3,
      "outputs": [
        {
          "output_type": "stream",
          "text": [
            "enter 1st num3\n",
            "enter 2nd num5\n",
            "8\n"
          ],
          "name": "stdout"
        }
      ]
    }
  ]
}